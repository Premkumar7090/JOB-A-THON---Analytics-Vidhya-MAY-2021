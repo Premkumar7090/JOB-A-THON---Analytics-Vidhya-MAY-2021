{
 "cells": [
  {
   "cell_type": "markdown",
   "metadata": {
    "_cell_guid": "b1076dfc-b9ad-4769-8c92-a6c4dae69d19",
    "_uuid": "8f2839f25d086af736a60e9eeb907d3b93b6e0e5"
   },
   "source": [
    "\n",
    "# Problem Statement\n",
    "* Our client, Happy Customer Bank is a mid-sized private bank that deals in all kinds of banking products.\n",
    "* They also cross-sell products to its existing customers and to do so they use different kinds of communication like tele-calling, e-mails, recommendations on net banking, mobile banking, etc.\n",
    "* In this case, they want to cross sell its credit cards to its existing customers.\n",
    "* The bank has identified a set of customers that are eligible for taking these credit cards.\n",
    "\n",
    "**Given historic data and other data of the customers we have to identify which customers are most likely to accept our cross-sell offer.**\n",
    "\n",
    "## Data Description:-\n",
    "We have the following information regarding the customer:\n",
    "* Customer details (gender, age, region etc.)\n",
    "* Details of his/her relationship with the bank (Channel_Code,Vintage, 'Avg_Asset_Value etc.)\n",
    "\n",
    "## Expected Outcome:-\n",
    "* Build a model to predict whether the person will be interested in buying the Credit card offered by our client.\n",
    "* Grading Metric: **ROC_AUC_SCORE**\n",
    "\n",
    "## Problem Category:-\n",
    "For the data and objective, it’s evident that this is a **Binary Classification Problem** in the **Tabular Data** format.\n",
    "\n",
    "So without further ado, let's now start with some basic imports to take us through this journey of Lead prediction:-"
   ]
  },
  {
   "cell_type": "code",
   "execution_count": null,
   "metadata": {
    "execution": {
     "iopub.execute_input": "2021-05-30T16:58:38.95644Z",
     "iopub.status.busy": "2021-05-30T16:58:38.95572Z",
     "iopub.status.idle": "2021-05-30T16:58:41.719192Z",
     "shell.execute_reply": "2021-05-30T16:58:41.718007Z",
     "shell.execute_reply.started": "2021-05-30T16:58:38.9563Z"
    }
   },
   "outputs": [],
   "source": [
    "# Asthetics\n",
    "import warnings\n",
    "import sklearn.exceptions\n",
    "warnings.filterwarnings('ignore', category=DeprecationWarning)\n",
    "warnings.filterwarnings('ignore', category=FutureWarning)\n",
    "warnings.filterwarnings('ignore', category=UserWarning)\n",
    "warnings.filterwarnings(\"ignore\", category=sklearn.exceptions.UndefinedMetricWarning)\n",
    "\n",
    "# General\n",
    "from tqdm import tqdm\n",
    "import pandas as pd\n",
    "import numpy as np\n",
    "import os\n",
    "import random\n",
    "pd.set_option('display.max_columns', None)\n",
    "\n",
    "# Visialisation\n",
    "import matplotlib.pyplot as plt\n",
    "import seaborn as sns\n",
    "%matplotlib inline\n",
    "sns.set(style=\"whitegrid\")\n",
    "\n",
    "# Machine Learning\n",
    "# Utils\n",
    "from sklearn.model_selection import cross_val_score, RepeatedStratifiedKFold, StratifiedKFold\n",
    "from sklearn import preprocessing\n",
    "#Feature Selection\n",
    "from sklearn.feature_selection import chi2, f_classif, f_regression, mutual_info_classif\n",
    "from sklearn.feature_selection import mutual_info_regression, SelectKBest, SelectPercentile\n",
    "from sklearn.feature_selection import VarianceThreshold\n",
    "# Models\n",
    "from sklearn.naive_bayes import GaussianNB\n",
    "from sklearn.discriminant_analysis import QuadraticDiscriminantAnalysis\n",
    "from sklearn.linear_model import LogisticRegression\n",
    "from sklearn.ensemble import RandomForestClassifier\n",
    "from lightgbm import LGBMClassifier\n",
    "from imblearn.ensemble import BalancedBaggingClassifier, BalancedRandomForestClassifier\n",
    "# Unsupervised Models\n",
    "from sklearn.cluster import KMeans\n",
    "#Metrics\n",
    "from sklearn.metrics import roc_auc_score\n",
    "\n",
    "# Fixing Seed\n",
    "RANDOM_SEED = 42\n",
    "\n",
    "def seed_everything(seed=RANDOM_SEED):\n",
    "    os.environ['PYTHONHASHSEED'] = str(seed)\n",
    "    np.random.seed(seed)\n",
    "    random.seed(seed)\n",
    "    \n",
    "seed_everything()"
   ]
  },
  {
   "cell_type": "markdown",
   "metadata": {},
   "source": [
    "# EDA\n",
    "Let's have a basic look around the data we have at hand first"
   ]
  },
  {
   "cell_type": "code",
   "execution_count": null,
   "metadata": {
    "execution": {
     "iopub.execute_input": "2021-05-30T16:58:41.730982Z",
     "iopub.status.busy": "2021-05-30T16:58:41.730478Z",
     "iopub.status.idle": "2021-05-30T16:58:42.637803Z",
     "shell.execute_reply": "2021-05-30T16:58:42.636968Z",
     "shell.execute_reply.started": "2021-05-30T16:58:41.730944Z"
    }
   },
   "outputs": [],
   "source": [
    "train_df = pd.read_csv(\"train.csv\")\n",
    "test_df = pd.read_csv(\"test.csv\")\n",
    "sub_df = pd.read_csv(\"sample.csv\")"
   ]
  },
  {
   "cell_type": "markdown",
   "metadata": {},
   "source": [
    "Let's see what columns we have in the training data."
   ]
  },
  {
   "cell_type": "code",
   "execution_count": null,
   "metadata": {
    "execution": {
     "iopub.execute_input": "2021-05-30T16:58:42.64008Z",
     "iopub.status.busy": "2021-05-30T16:58:42.639487Z",
     "iopub.status.idle": "2021-05-30T16:58:42.677878Z",
     "shell.execute_reply": "2021-05-30T16:58:42.676902Z",
     "shell.execute_reply.started": "2021-05-30T16:58:42.640021Z"
    }
   },
   "outputs": [],
   "source": [
    "train_df.sample(10)"
   ]
  },
  {
   "cell_type": "code",
   "execution_count": null,
   "metadata": {
    "execution": {
     "iopub.execute_input": "2021-05-30T16:58:42.679851Z",
     "iopub.status.busy": "2021-05-30T16:58:42.679302Z",
     "iopub.status.idle": "2021-05-30T16:58:42.686814Z",
     "shell.execute_reply": "2021-05-30T16:58:42.686042Z",
     "shell.execute_reply.started": "2021-05-30T16:58:42.679808Z"
    }
   },
   "outputs": [],
   "source": [
    "train_df.columns"
   ]
  },
  {
   "cell_type": "markdown",
   "metadata": {},
   "source": [
    "From the column keys in problem statement we know the following information about each of the features:-\n",
    "\n",
    " Variable      | Definition         \n",
    " :-----------  |:------------\n",
    " ID | Unique Identifier for a row\n",
    " Gender | Gender of the Customer\n",
    " Age | Age of the Customer (in Years)\n",
    " Region_Code | Code of the Region for the customers\n",
    " Occupation | Occupation Type for the customer\n",
    " Channel_Code | Acquisition Channel Code for the Customer  (Encoded)\n",
    " Vintage | Vintage for the Customer (In Months)\n",
    " Credit_Product | If the Customer has any active credit product (Home loan, Personal loan, Credit Card etc.)\n",
    " Avg_Account_Balance | Average Account Balance for the Customer in last 12 Months\n",
    " Is_Active | If the Customer is Active in last 3 Months\n",
    " Is_Lead(Target) | 0 : Customer is not interested\n",
    " | 1 : Customer is interested"
   ]
  },
  {
   "cell_type": "markdown",
   "metadata": {},
   "source": [
    "We can get a naive idea about the type of variables form the definition itself and looking at the data makes it clearer."
   ]
  },
  {
   "cell_type": "code",
   "execution_count": null,
   "metadata": {
    "execution": {
     "iopub.execute_input": "2021-05-30T16:58:42.688877Z",
     "iopub.status.busy": "2021-05-30T16:58:42.688286Z",
     "iopub.status.idle": "2021-05-30T16:58:42.763099Z",
     "shell.execute_reply": "2021-05-30T16:58:42.761789Z",
     "shell.execute_reply.started": "2021-05-30T16:58:42.688834Z"
    }
   },
   "outputs": [],
   "source": [
    "train_df.describe().T"
   ]
  },
  {
   "cell_type": "code",
   "execution_count": null,
   "metadata": {
    "execution": {
     "iopub.execute_input": "2021-05-30T16:58:42.764559Z",
     "iopub.status.busy": "2021-05-30T16:58:42.76429Z",
     "iopub.status.idle": "2021-05-30T16:58:42.926183Z",
     "shell.execute_reply": "2021-05-30T16:58:42.925194Z",
     "shell.execute_reply.started": "2021-05-30T16:58:42.764532Z"
    }
   },
   "outputs": [],
   "source": [
    "np.sum(train_df.isnull())"
   ]
  },
  {
   "cell_type": "markdown",
   "metadata": {},
   "source": [
    "We can see that there are some Null values in some columns. Which is not good for data ingestion into any model, so let's see the Null situation upfront:-  \n",
    "## 1. Null Values"
   ]
  },
  {
   "cell_type": "code",
   "execution_count": null,
   "metadata": {
    "execution": {
     "iopub.execute_input": "2021-05-30T16:58:42.928096Z",
     "iopub.status.busy": "2021-05-30T16:58:42.927619Z",
     "iopub.status.idle": "2021-05-30T16:58:43.260872Z",
     "shell.execute_reply": "2021-05-30T16:58:43.259548Z",
     "shell.execute_reply.started": "2021-05-30T16:58:42.928046Z"
    }
   },
   "outputs": [],
   "source": [
    "nulls_train = np.sum(train_df.isnull())\n",
    "nullcols_train = nulls_train.loc[(nulls_train != 0)].sort_values(ascending=False)\n",
    "nullcols_train = nullcols_train.apply(lambda x: 100*x/train_df.shape[0])\n",
    "\n",
    "barplot_dim = (15, 8)\n",
    "ax = plt.subplots(figsize=barplot_dim)\n",
    "sns.barplot(x=nullcols_train.index, y=nullcols_train)\n",
    "plt.ylabel(\"Null %\", size=20);\n",
    "plt.xlabel(\"Feature Name\", size=20);\n",
    "plt.show()"
   ]
  },
  {
   "cell_type": "code",
   "execution_count": null,
   "metadata": {
    "execution": {
     "iopub.execute_input": "2021-05-30T16:58:43.265031Z",
     "iopub.status.busy": "2021-05-30T16:58:43.264686Z",
     "iopub.status.idle": "2021-05-30T16:58:43.494136Z",
     "shell.execute_reply": "2021-05-30T16:58:43.492718Z",
     "shell.execute_reply.started": "2021-05-30T16:58:43.264998Z"
    }
   },
   "outputs": [],
   "source": [
    "nulls_train = np.sum(test_df.isnull())\n",
    "nullcols_train = nulls_train.loc[(nulls_train != 0)].sort_values(ascending=False)\n",
    "nullcols_train = nullcols_train.apply(lambda x: 100*x/test_df.shape[0])\n",
    "\n",
    "barplot_dim = (15, 8)\n",
    "ax = plt.subplots(figsize=barplot_dim)\n",
    "sns.barplot(x=nullcols_train.index, y=nullcols_train)\n",
    "plt.ylabel(\"Null %\", size=20);\n",
    "plt.xlabel(\"Feature Name\", size=20);\n",
    "plt.show()"
   ]
  },
  {
   "cell_type": "markdown",
   "metadata": {},
   "source": [
    "The situation is almost similar in both train set and test set; Around 12% of the values from 'Credit_Product' column is missing. And looking at the feature definition of the missing column we can assume that the NaN values in credit product means we do not know is the user has/does not have any active credit product. So, we can replace Nan with 'Unknown' and create another binary column to track the same:-"
   ]
  },
  {
   "cell_type": "code",
   "execution_count": null,
   "metadata": {
    "execution": {
     "iopub.execute_input": "2021-05-30T16:58:43.496522Z",
     "iopub.status.busy": "2021-05-30T16:58:43.496207Z",
     "iopub.status.idle": "2021-05-30T16:58:43.537876Z",
     "shell.execute_reply": "2021-05-30T16:58:43.536566Z",
     "shell.execute_reply.started": "2021-05-30T16:58:43.496491Z"
    }
   },
   "outputs": [],
   "source": [
    "train_df['Credit_Product'].fillna('Unk', inplace=True)\n",
    "test_df['Credit_Product'].fillna('Unk', inplace=True)"
   ]
  },
  {
   "cell_type": "code",
   "execution_count": null,
   "metadata": {
    "execution": {
     "iopub.execute_input": "2021-05-30T16:58:43.540078Z",
     "iopub.status.busy": "2021-05-30T16:58:43.539587Z",
     "iopub.status.idle": "2021-05-30T16:58:43.75126Z",
     "shell.execute_reply": "2021-05-30T16:58:43.750087Z",
     "shell.execute_reply.started": "2021-05-30T16:58:43.540029Z"
    }
   },
   "outputs": [],
   "source": [
    "train_df['Credit_Product_Known'] = train_df['Credit_Product'].apply(lambda x: 0 if x == 'Unk' else 1)\n",
    "test_df['Credit_Product_Known'] = test_df['Credit_Product'].apply(lambda x: 0 if x == 'Unk' else 1)"
   ]
  },
  {
   "cell_type": "code",
   "execution_count": null,
   "metadata": {
    "execution": {
     "iopub.execute_input": "2021-05-30T16:58:43.753047Z",
     "iopub.status.busy": "2021-05-30T16:58:43.75273Z",
     "iopub.status.idle": "2021-05-30T16:58:43.917506Z",
     "shell.execute_reply": "2021-05-30T16:58:43.916173Z",
     "shell.execute_reply.started": "2021-05-30T16:58:43.753017Z"
    }
   },
   "outputs": [],
   "source": [
    "np.sum(train_df.isnull())"
   ]
  },
  {
   "cell_type": "code",
   "execution_count": null,
   "metadata": {
    "execution": {
     "iopub.execute_input": "2021-05-30T16:58:43.920201Z",
     "iopub.status.busy": "2021-05-30T16:58:43.919783Z",
     "iopub.status.idle": "2021-05-30T16:58:43.998288Z",
     "shell.execute_reply": "2021-05-30T16:58:43.997066Z",
     "shell.execute_reply.started": "2021-05-30T16:58:43.920161Z"
    }
   },
   "outputs": [],
   "source": [
    "np.sum(test_df.isnull())"
   ]
  },
  {
   "cell_type": "markdown",
   "metadata": {},
   "source": [
    "Now that we have resolved all the null values, let's move on to EDA starting with class imabalance of the Dataset.\n",
    "## 2. Class Imbalance\n",
    "As this is a classification problem, let's start from the population of each class in out training set."
   ]
  },
  {
   "cell_type": "code",
   "execution_count": null,
   "metadata": {
    "execution": {
     "iopub.execute_input": "2021-05-30T16:58:44.000543Z",
     "iopub.status.busy": "2021-05-30T16:58:44.0001Z",
     "iopub.status.idle": "2021-05-30T16:58:44.196539Z",
     "shell.execute_reply": "2021-05-30T16:58:44.195278Z",
     "shell.execute_reply.started": "2021-05-30T16:58:44.000499Z"
    }
   },
   "outputs": [],
   "source": [
    "ax = plt.subplots(figsize=(18, 6))\n",
    "sns.set_style(\"whitegrid\")\n",
    "sns.countplot(x='Is_Lead', data=train_df);\n",
    "plt.ylabel(\"No. of Observations\", size=20);\n",
    "plt.xlabel(\"Is Lead?\", size=20);"
   ]
  },
  {
   "cell_type": "code",
   "execution_count": null,
   "metadata": {
    "execution": {
     "iopub.execute_input": "2021-05-30T16:58:44.199383Z",
     "iopub.status.busy": "2021-05-30T16:58:44.199011Z",
     "iopub.status.idle": "2021-05-30T16:58:44.260974Z",
     "shell.execute_reply": "2021-05-30T16:58:44.259692Z",
     "shell.execute_reply.started": "2021-05-30T16:58:44.199349Z"
    }
   },
   "outputs": [],
   "source": [
    "imbalance_ratio = train_df[train_df['Is_Lead'] == 0].shape[0]/train_df[train_df['Is_Lead'] == 1].shape[0]\n",
    "print(f'Imbalance ratio: {imbalance_ratio}')"
   ]
  },
  {
   "cell_type": "markdown",
   "metadata": {},
   "source": [
    "Okay, so it is an imbalanced set. We have to keep that in mind while modelling and choosing hyper-parameters later.  \n",
    "## 3. Feature Value Counts\n",
    "Let's see how manu unique values are there in each feature."
   ]
  },
  {
   "cell_type": "code",
   "execution_count": null,
   "metadata": {
    "execution": {
     "iopub.execute_input": "2021-05-30T16:58:44.26429Z",
     "iopub.status.busy": "2021-05-30T16:58:44.263943Z",
     "iopub.status.idle": "2021-05-30T16:58:44.691614Z",
     "shell.execute_reply": "2021-05-30T16:58:44.690407Z",
     "shell.execute_reply.started": "2021-05-30T16:58:44.264257Z"
    }
   },
   "outputs": [],
   "source": [
    "train_df.nunique()"
   ]
  },
  {
   "cell_type": "code",
   "execution_count": null,
   "metadata": {
    "execution": {
     "iopub.execute_input": "2021-05-30T16:58:44.693342Z",
     "iopub.status.busy": "2021-05-30T16:58:44.693057Z",
     "iopub.status.idle": "2021-05-30T16:58:44.699004Z",
     "shell.execute_reply": "2021-05-30T16:58:44.698041Z",
     "shell.execute_reply.started": "2021-05-30T16:58:44.693313Z"
    }
   },
   "outputs": [],
   "source": [
    "train_df.shape"
   ]
  },
  {
   "cell_type": "markdown",
   "metadata": {},
   "source": [
    "* There are a mix of certain continuous, high cardinality categorical and low cardinality categorical features.\n",
    "\n",
    "Now let's look at each individual feature separately and undersatnd the data...\n",
    "## 4. Gender\n",
    "This feature contains the Gender data of the customer"
   ]
  },
  {
   "cell_type": "code",
   "execution_count": null,
   "metadata": {
    "execution": {
     "iopub.execute_input": "2021-05-30T16:58:44.700607Z",
     "iopub.status.busy": "2021-05-30T16:58:44.700225Z",
     "iopub.status.idle": "2021-05-30T16:58:45.141282Z",
     "shell.execute_reply": "2021-05-30T16:58:45.140119Z",
     "shell.execute_reply.started": "2021-05-30T16:58:44.700565Z"
    }
   },
   "outputs": [],
   "source": [
    "ax = plt.subplots(figsize=(8, 5))\n",
    "sns.set_style(\"whitegrid\")\n",
    "sns.countplot(x='Gender', hue='Is_Lead', data=train_df);"
   ]
  },
  {
   "cell_type": "code",
   "execution_count": null,
   "metadata": {
    "execution": {
     "iopub.execute_input": "2021-05-30T16:58:45.143264Z",
     "iopub.status.busy": "2021-05-30T16:58:45.142817Z",
     "iopub.status.idle": "2021-05-30T16:58:45.196077Z",
     "shell.execute_reply": "2021-05-30T16:58:45.195061Z",
     "shell.execute_reply.started": "2021-05-30T16:58:45.143222Z"
    }
   },
   "outputs": [],
   "source": [
    "# Response Rate from Gender\n",
    "v = train_df.groupby('Gender').Is_Lead.value_counts().unstack()\n",
    "v['Ratio'] = v[1]/(v[0] + v[1])\n",
    "v.reset_index(inplace=True)"
   ]
  },
  {
   "cell_type": "code",
   "execution_count": null,
   "metadata": {
    "execution": {
     "iopub.execute_input": "2021-05-30T16:58:45.19757Z",
     "iopub.status.busy": "2021-05-30T16:58:45.197292Z",
     "iopub.status.idle": "2021-05-30T16:58:45.329891Z",
     "shell.execute_reply": "2021-05-30T16:58:45.328937Z",
     "shell.execute_reply.started": "2021-05-30T16:58:45.197543Z"
    }
   },
   "outputs": [],
   "source": [
    "ax = plt.subplots(figsize=(8, 5))\n",
    "sns.set_style(\"whitegrid\")\n",
    "sns.barplot(x='Gender', y='Ratio', data=v.sort_values(by=['Ratio'], ascending=False));"
   ]
  },
  {
   "cell_type": "markdown",
   "metadata": {},
   "source": [
    "* There are more number of observations from Male customers as compared to Female customers in the training data.\n",
    "* According to the dataset, Male gender has better conversion ratio than Female gender.\n",
    "\n",
    "## 5. Age\n",
    "Age of the Customer (in Years)"
   ]
  },
  {
   "cell_type": "code",
   "execution_count": null,
   "metadata": {
    "execution": {
     "iopub.execute_input": "2021-05-30T16:58:45.331407Z",
     "iopub.status.busy": "2021-05-30T16:58:45.331114Z",
     "iopub.status.idle": "2021-05-30T16:58:45.849304Z",
     "shell.execute_reply": "2021-05-30T16:58:45.848345Z",
     "shell.execute_reply.started": "2021-05-30T16:58:45.33138Z"
    }
   },
   "outputs": [],
   "source": [
    "g = sns.catplot(x='Is_Lead', y='Age', kind='boxen', data=train_df);\n",
    "g.fig.set_size_inches(15,8)"
   ]
  },
  {
   "cell_type": "code",
   "execution_count": null,
   "metadata": {
    "execution": {
     "iopub.execute_input": "2021-05-30T16:58:45.85077Z",
     "iopub.status.busy": "2021-05-30T16:58:45.850489Z",
     "iopub.status.idle": "2021-05-30T16:58:46.58656Z",
     "shell.execute_reply": "2021-05-30T16:58:46.585486Z",
     "shell.execute_reply.started": "2021-05-30T16:58:45.850744Z"
    }
   },
   "outputs": [],
   "source": [
    "g = sns.catplot(x='Gender', y='Age', kind='boxen', data=train_df);\n",
    "g.fig.set_size_inches(15,8)"
   ]
  },
  {
   "cell_type": "code",
   "execution_count": null,
   "metadata": {
    "execution": {
     "iopub.execute_input": "2021-05-30T16:58:46.588179Z",
     "iopub.status.busy": "2021-05-30T16:58:46.587823Z",
     "iopub.status.idle": "2021-05-30T16:58:47.470981Z",
     "shell.execute_reply": "2021-05-30T16:58:47.470012Z",
     "shell.execute_reply.started": "2021-05-30T16:58:46.588147Z"
    }
   },
   "outputs": [],
   "source": [
    "g = sns.catplot(x='Gender', y='Age', hue='Is_Lead', kind='box', data=train_df);\n",
    "g.fig.set_size_inches(15,8)"
   ]
  },
  {
   "cell_type": "markdown",
   "metadata": {},
   "source": [
    "* On an average, more aged people are likely to respond positively to our offer.\n",
    "* The average age of male in dataset is > average age of female.\n",
    "* If we split by gender, the average age of positively responding male is > average of positively responding Female.\n",
    "\n",
    "## 6. Region Code\n",
    "Code of the Region for the customers"
   ]
  },
  {
   "cell_type": "code",
   "execution_count": null,
   "metadata": {
    "execution": {
     "iopub.execute_input": "2021-05-30T16:58:47.473459Z",
     "iopub.status.busy": "2021-05-30T16:58:47.473039Z",
     "iopub.status.idle": "2021-05-30T16:58:48.399708Z",
     "shell.execute_reply": "2021-05-30T16:58:48.398581Z",
     "shell.execute_reply.started": "2021-05-30T16:58:47.473415Z"
    }
   },
   "outputs": [],
   "source": [
    "ax = plt.subplots(figsize=(30, 8))\n",
    "sns.set_style(\"whitegrid\")\n",
    "sns.countplot(x='Region_Code', hue='Is_Lead', data=train_df);"
   ]
  },
  {
   "cell_type": "code",
   "execution_count": null,
   "metadata": {
    "execution": {
     "iopub.execute_input": "2021-05-30T16:58:48.401559Z",
     "iopub.status.busy": "2021-05-30T16:58:48.401274Z",
     "iopub.status.idle": "2021-05-30T16:58:48.453653Z",
     "shell.execute_reply": "2021-05-30T16:58:48.452539Z",
     "shell.execute_reply.started": "2021-05-30T16:58:48.40153Z"
    }
   },
   "outputs": [],
   "source": [
    "# Response Rate from Cities\n",
    "v = train_df.groupby('Region_Code').Is_Lead.value_counts().unstack()\n",
    "v['Ratio'] = v[1]/(v[0] + v[1])\n",
    "v.reset_index(inplace=True)"
   ]
  },
  {
   "cell_type": "code",
   "execution_count": null,
   "metadata": {
    "execution": {
     "iopub.execute_input": "2021-05-30T16:58:48.455229Z",
     "iopub.status.busy": "2021-05-30T16:58:48.454886Z",
     "iopub.status.idle": "2021-05-30T16:58:48.462977Z",
     "shell.execute_reply": "2021-05-30T16:58:48.46174Z",
     "shell.execute_reply.started": "2021-05-30T16:58:48.4552Z"
    }
   },
   "outputs": [],
   "source": [
    "v['Ratio'].mean()"
   ]
  },
  {
   "cell_type": "code",
   "execution_count": null,
   "metadata": {
    "execution": {
     "iopub.execute_input": "2021-05-30T16:58:48.468819Z",
     "iopub.status.busy": "2021-05-30T16:58:48.468517Z",
     "iopub.status.idle": "2021-05-30T16:58:49.154089Z",
     "shell.execute_reply": "2021-05-30T16:58:49.153165Z",
     "shell.execute_reply.started": "2021-05-30T16:58:48.468786Z"
    }
   },
   "outputs": [],
   "source": [
    "ax = plt.subplots(figsize=(30, 8))\n",
    "sns.set_style(\"whitegrid\")\n",
    "sns.barplot(x='Region_Code', y='Ratio', data=v.sort_values(by=['Ratio'], ascending=False));"
   ]
  },
  {
   "cell_type": "markdown",
   "metadata": {},
   "source": [
    "## 7. Occupation\n",
    "Occupation Type for the customer"
   ]
  },
  {
   "cell_type": "code",
   "execution_count": null,
   "metadata": {
    "execution": {
     "iopub.execute_input": "2021-05-30T16:58:49.156626Z",
     "iopub.status.busy": "2021-05-30T16:58:49.156325Z",
     "iopub.status.idle": "2021-05-30T16:58:49.624889Z",
     "shell.execute_reply": "2021-05-30T16:58:49.623967Z",
     "shell.execute_reply.started": "2021-05-30T16:58:49.156595Z"
    }
   },
   "outputs": [],
   "source": [
    "ax = plt.subplots(figsize=(8, 5))\n",
    "sns.set_style(\"whitegrid\")\n",
    "sns.countplot(x='Occupation', hue='Is_Lead', data=train_df);"
   ]
  },
  {
   "cell_type": "code",
   "execution_count": null,
   "metadata": {
    "execution": {
     "iopub.execute_input": "2021-05-30T16:58:49.62648Z",
     "iopub.status.busy": "2021-05-30T16:58:49.626194Z",
     "iopub.status.idle": "2021-05-30T16:58:49.67648Z",
     "shell.execute_reply": "2021-05-30T16:58:49.675215Z",
     "shell.execute_reply.started": "2021-05-30T16:58:49.626452Z"
    }
   },
   "outputs": [],
   "source": [
    "# Response Rate from Occupation\n",
    "v = train_df.groupby('Occupation').Is_Lead.value_counts().unstack()\n",
    "v['Ratio'] = v[1]/(v[0] + v[1])\n",
    "v.reset_index(inplace=True)"
   ]
  },
  {
   "cell_type": "code",
   "execution_count": null,
   "metadata": {
    "execution": {
     "iopub.execute_input": "2021-05-30T16:58:49.678137Z",
     "iopub.status.busy": "2021-05-30T16:58:49.677834Z",
     "iopub.status.idle": "2021-05-30T16:58:49.846831Z",
     "shell.execute_reply": "2021-05-30T16:58:49.84572Z",
     "shell.execute_reply.started": "2021-05-30T16:58:49.678109Z"
    }
   },
   "outputs": [],
   "source": [
    "ax = plt.subplots(figsize=(8, 5))\n",
    "sns.set_style(\"whitegrid\")\n",
    "sns.barplot(x='Occupation', y='Ratio', data=v.sort_values(by=['Ratio'], ascending=False));"
   ]
  },
  {
   "cell_type": "markdown",
   "metadata": {},
   "source": [
    "* The customer base in training data are majorly Self-Employed or Salaried.\n",
    "* Entrepreneural customers are way more likely to respond positively to our Credit Card offer.\n",
    "* Salaried people are least likely to respond positively to our offer.\n",
    "\n",
    "## 8. Channel Code\n",
    "Acquisition Channel Code for the Customer  (Encoded)"
   ]
  },
  {
   "cell_type": "code",
   "execution_count": null,
   "metadata": {
    "execution": {
     "iopub.execute_input": "2021-05-30T16:58:49.848504Z",
     "iopub.status.busy": "2021-05-30T16:58:49.848179Z",
     "iopub.status.idle": "2021-05-30T16:58:50.326792Z",
     "shell.execute_reply": "2021-05-30T16:58:50.325815Z",
     "shell.execute_reply.started": "2021-05-30T16:58:49.848473Z"
    }
   },
   "outputs": [],
   "source": [
    "ax = plt.subplots(figsize=(8, 5))\n",
    "sns.set_style(\"whitegrid\")\n",
    "sns.countplot(x='Channel_Code', hue='Is_Lead', data=train_df);"
   ]
  },
  {
   "cell_type": "code",
   "execution_count": null,
   "metadata": {
    "execution": {
     "iopub.execute_input": "2021-05-30T16:58:50.328897Z",
     "iopub.status.busy": "2021-05-30T16:58:50.328501Z",
     "iopub.status.idle": "2021-05-30T16:58:50.386778Z",
     "shell.execute_reply": "2021-05-30T16:58:50.385995Z",
     "shell.execute_reply.started": "2021-05-30T16:58:50.328848Z"
    }
   },
   "outputs": [],
   "source": [
    "# Response Rate from Channel_Code\n",
    "v = train_df.groupby('Channel_Code').Is_Lead.value_counts().unstack()\n",
    "v['Ratio'] = v[1]/(v[0] + v[1])\n",
    "v.reset_index(inplace=True)"
   ]
  },
  {
   "cell_type": "code",
   "execution_count": null,
   "metadata": {
    "execution": {
     "iopub.execute_input": "2021-05-30T16:58:50.388373Z",
     "iopub.status.busy": "2021-05-30T16:58:50.387987Z",
     "iopub.status.idle": "2021-05-30T16:58:50.555389Z",
     "shell.execute_reply": "2021-05-30T16:58:50.554203Z",
     "shell.execute_reply.started": "2021-05-30T16:58:50.388334Z"
    }
   },
   "outputs": [],
   "source": [
    "ax = plt.subplots(figsize=(8, 5))\n",
    "sns.set_style(\"whitegrid\")\n",
    "sns.barplot(x='Channel_Code', y='Ratio', data=v.sort_values(by=['Ratio'], ascending=False));"
   ]
  },
  {
   "cell_type": "markdown",
   "metadata": {},
   "source": [
    "* Customer acquired through X3 channel are most likely to respond positively and X1 are least likely.\n",
    "\n",
    "## 9. Vintage\n",
    "Vintage for the Customer (In Months)"
   ]
  },
  {
   "cell_type": "code",
   "execution_count": null,
   "metadata": {
    "execution": {
     "iopub.execute_input": "2021-05-30T16:58:50.557451Z",
     "iopub.status.busy": "2021-05-30T16:58:50.557047Z",
     "iopub.status.idle": "2021-05-30T16:58:51.08214Z",
     "shell.execute_reply": "2021-05-30T16:58:51.080991Z",
     "shell.execute_reply.started": "2021-05-30T16:58:50.557409Z"
    }
   },
   "outputs": [],
   "source": [
    "g = sns.catplot(x='Is_Lead', y='Vintage', kind='boxen', data=train_df);\n",
    "g.fig.set_size_inches(15,8)"
   ]
  },
  {
   "cell_type": "markdown",
   "metadata": {},
   "source": [
    "* Customers having a higher Vintage on an average are more likely to respond positively.\n",
    "\n",
    "## 10. Credit Product\n",
    "If the Customer has any active credit product (Home loan, Personal loan, Credit Card etc.)"
   ]
  },
  {
   "cell_type": "code",
   "execution_count": null,
   "metadata": {
    "execution": {
     "iopub.execute_input": "2021-05-30T16:58:51.083734Z",
     "iopub.status.busy": "2021-05-30T16:58:51.083457Z",
     "iopub.status.idle": "2021-05-30T16:58:51.550829Z",
     "shell.execute_reply": "2021-05-30T16:58:51.549995Z",
     "shell.execute_reply.started": "2021-05-30T16:58:51.083706Z"
    }
   },
   "outputs": [],
   "source": [
    "ax = plt.subplots(figsize=(8, 5))\n",
    "sns.set_style(\"whitegrid\")\n",
    "sns.countplot(x='Credit_Product', hue='Is_Lead', data=train_df);"
   ]
  },
  {
   "cell_type": "code",
   "execution_count": null,
   "metadata": {
    "execution": {
     "iopub.execute_input": "2021-05-30T16:58:51.552437Z",
     "iopub.status.busy": "2021-05-30T16:58:51.552022Z",
     "iopub.status.idle": "2021-05-30T16:58:51.600221Z",
     "shell.execute_reply": "2021-05-30T16:58:51.599035Z",
     "shell.execute_reply.started": "2021-05-30T16:58:51.552404Z"
    }
   },
   "outputs": [],
   "source": [
    "# Response Rate from Credit_Product\n",
    "v = train_df.groupby('Credit_Product').Is_Lead.value_counts().unstack()\n",
    "v['Ratio'] = v[1]/(v[0] + v[1])\n",
    "v.reset_index(inplace=True)"
   ]
  },
  {
   "cell_type": "code",
   "execution_count": null,
   "metadata": {
    "execution": {
     "iopub.execute_input": "2021-05-30T16:58:51.602597Z",
     "iopub.status.busy": "2021-05-30T16:58:51.602151Z",
     "iopub.status.idle": "2021-05-30T16:58:51.766115Z",
     "shell.execute_reply": "2021-05-30T16:58:51.764853Z",
     "shell.execute_reply.started": "2021-05-30T16:58:51.602543Z"
    }
   },
   "outputs": [],
   "source": [
    "ax = plt.subplots(figsize=(8, 5))\n",
    "sns.set_style(\"whitegrid\")\n",
    "sns.barplot(x='Credit_Product', y='Ratio', data=v.sort_values(by=['Ratio'], ascending=False));"
   ]
  },
  {
   "cell_type": "markdown",
   "metadata": {},
   "source": [
    "* People already having some kind of credit product are way more likely to respond positively to offer as compared to non-credit users.\n",
    "\n",
    "## 11. Avg Account Balance\n",
    "Average Account Balance for the Customer in last 12 Months"
   ]
  },
  {
   "cell_type": "code",
   "execution_count": null,
   "metadata": {
    "execution": {
     "iopub.execute_input": "2021-05-30T16:58:51.767778Z",
     "iopub.status.busy": "2021-05-30T16:58:51.767481Z",
     "iopub.status.idle": "2021-05-30T16:58:52.779945Z",
     "shell.execute_reply": "2021-05-30T16:58:52.778825Z",
     "shell.execute_reply.started": "2021-05-30T16:58:51.767748Z"
    }
   },
   "outputs": [],
   "source": [
    "ax = plt.subplots(figsize=(8, 5))\n",
    "sns.histplot(data=train_df, x='Avg_Account_Balance');"
   ]
  },
  {
   "cell_type": "code",
   "execution_count": null,
   "metadata": {
    "execution": {
     "iopub.execute_input": "2021-05-30T16:58:52.783474Z",
     "iopub.status.busy": "2021-05-30T16:58:52.783179Z",
     "iopub.status.idle": "2021-05-30T16:58:53.281532Z",
     "shell.execute_reply": "2021-05-30T16:58:53.2801Z",
     "shell.execute_reply.started": "2021-05-30T16:58:52.783443Z"
    }
   },
   "outputs": [],
   "source": [
    "g = sns.catplot(x='Is_Lead', y='Avg_Account_Balance', kind='boxen', data=train_df);\n",
    "g.fig.set_size_inches(15,8)"
   ]
  },
  {
   "cell_type": "markdown",
   "metadata": {},
   "source": [
    "* Positively responding customers have a slightly higher average account balance on an average as compared to negatively responding customers.\n",
    "\n",
    "## 12. Is Active\n",
    "If the Customer is Active in last 3 Months"
   ]
  },
  {
   "cell_type": "code",
   "execution_count": null,
   "metadata": {
    "execution": {
     "iopub.execute_input": "2021-05-30T16:58:53.283339Z",
     "iopub.status.busy": "2021-05-30T16:58:53.283032Z",
     "iopub.status.idle": "2021-05-30T16:58:53.715606Z",
     "shell.execute_reply": "2021-05-30T16:58:53.71453Z",
     "shell.execute_reply.started": "2021-05-30T16:58:53.283308Z"
    }
   },
   "outputs": [],
   "source": [
    "ax = plt.subplots(figsize=(8, 5))\n",
    "sns.set_style(\"whitegrid\")\n",
    "sns.countplot(x='Is_Active', hue='Is_Lead', data=train_df);"
   ]
  },
  {
   "cell_type": "code",
   "execution_count": null,
   "metadata": {
    "execution": {
     "iopub.execute_input": "2021-05-30T16:58:53.71726Z",
     "iopub.status.busy": "2021-05-30T16:58:53.716957Z",
     "iopub.status.idle": "2021-05-30T16:58:53.762045Z",
     "shell.execute_reply": "2021-05-30T16:58:53.761078Z",
     "shell.execute_reply.started": "2021-05-30T16:58:53.717231Z"
    }
   },
   "outputs": [],
   "source": [
    "# Response Rate from Is_Active\n",
    "v = train_df.groupby('Is_Active').Is_Lead.value_counts().unstack()\n",
    "v['Ratio'] = v[1]/(v[0] + v[1])\n",
    "v.reset_index(inplace=True)"
   ]
  },
  {
   "cell_type": "code",
   "execution_count": null,
   "metadata": {
    "execution": {
     "iopub.execute_input": "2021-05-30T16:58:53.763496Z",
     "iopub.status.busy": "2021-05-30T16:58:53.763217Z",
     "iopub.status.idle": "2021-05-30T16:58:53.895671Z",
     "shell.execute_reply": "2021-05-30T16:58:53.894609Z",
     "shell.execute_reply.started": "2021-05-30T16:58:53.763469Z"
    }
   },
   "outputs": [],
   "source": [
    "ax = plt.subplots(figsize=(8, 5))\n",
    "sns.set_style(\"whitegrid\")\n",
    "sns.barplot(x='Is_Active', y='Ratio', data=v.sort_values(by=['Ratio'], ascending=False));"
   ]
  },
  {
   "cell_type": "markdown",
   "metadata": {},
   "source": [
    "* Active Customers(in last 3 months) are slightly more likely to respond positively as compared to inactive customers."
   ]
  },
  {
   "cell_type": "code",
   "execution_count": null,
   "metadata": {
    "execution": {
     "iopub.execute_input": "2021-05-30T16:58:53.897237Z",
     "iopub.status.busy": "2021-05-30T16:58:53.89696Z",
     "iopub.status.idle": "2021-05-30T16:58:53.903806Z",
     "shell.execute_reply": "2021-05-30T16:58:53.902664Z",
     "shell.execute_reply.started": "2021-05-30T16:58:53.897211Z"
    }
   },
   "outputs": [],
   "source": [
    "target = ['Is_Lead']\n",
    "not_features = ['ID', 'Is_Lead']\n",
    "cols = list(train_df.columns)\n",
    "features = [feat for feat in cols if feat not in not_features]\n",
    "print(features)"
   ]
  },
  {
   "cell_type": "code",
   "execution_count": null,
   "metadata": {
    "execution": {
     "iopub.execute_input": "2021-05-30T16:58:53.905368Z",
     "iopub.status.busy": "2021-05-30T16:58:53.905043Z",
     "iopub.status.idle": "2021-05-30T16:58:53.917857Z",
     "shell.execute_reply": "2021-05-30T16:58:53.916462Z",
     "shell.execute_reply.started": "2021-05-30T16:58:53.905337Z"
    }
   },
   "outputs": [],
   "source": [
    "numerics = ['int16', 'int32', 'int64', 'float16', 'float32', 'float64']\n",
    "categorical_features = []\n",
    "numerical_features = []\n",
    "\n",
    "for i in features:\n",
    "    if train_df[i].dtype in numerics:\n",
    "        numerical_features.append(i)\n",
    "    else:\n",
    "        categorical_features.append(i)\n",
    "        \n",
    "print(f'Numeric features: {numerical_features}')\n",
    "print(f'Categorical features: {categorical_features}')"
   ]
  },
  {
   "cell_type": "markdown",
   "metadata": {},
   "source": [
    "## 13. Numerical Feature Interactions"
   ]
  },
  {
   "cell_type": "code",
   "execution_count": null,
   "metadata": {
    "execution": {
     "iopub.execute_input": "2021-05-30T16:58:53.920336Z",
     "iopub.status.busy": "2021-05-30T16:58:53.919762Z",
     "iopub.status.idle": "2021-05-30T16:59:24.620142Z",
     "shell.execute_reply": "2021-05-30T16:59:24.616031Z",
     "shell.execute_reply.started": "2021-05-30T16:58:53.920287Z"
    }
   },
   "outputs": [],
   "source": [
    "g = sns.pairplot(train_df[numerical_features + ['Is_Lead']], hue='Is_Lead')\n",
    "g.fig.set_size_inches(10,8)"
   ]
  },
  {
   "cell_type": "code",
   "execution_count": null,
   "metadata": {
    "execution": {
     "iopub.status.busy": "2021-05-30T16:59:24.621282Z",
     "iopub.status.idle": "2021-05-30T16:59:24.621746Z"
    }
   },
   "outputs": [],
   "source": [
    "train_df_cor_spear = train_df[numerical_features].corr(method='spearman')\n",
    "plt.figure(figsize=(10,8))\n",
    "sns.heatmap(train_df_cor_spear, square=True, cmap='coolwarm', annot=True);"
   ]
  },
  {
   "cell_type": "markdown",
   "metadata": {},
   "source": [
    "# KFolds Split\n",
    "Before we move on to feature engineering, it is always a good idea to perform cross validation splits. In that way, we will not rix any data leakage and would be more certain of the validation set being aptly represenative of the real world unknown data."
   ]
  },
  {
   "cell_type": "code",
   "execution_count": null,
   "metadata": {
    "execution": {
     "iopub.status.busy": "2021-05-30T16:59:24.623214Z",
     "iopub.status.idle": "2021-05-30T16:59:24.623645Z"
    }
   },
   "outputs": [],
   "source": [
    "NUM_SPLITS = 5\n",
    "\n",
    "train_df[\"kfold\"] = -1\n",
    "train_df = train_df.sample(frac=1).reset_index(drop=True)\n",
    "y = train_df.Is_Lead.values\n",
    "kf = StratifiedKFold(n_splits=NUM_SPLITS)\n",
    "for f, (t_, v_) in enumerate(kf.split(X=train_df, y=y)):\n",
    "    train_df.loc[v_, 'kfold'] = f\n",
    "    \n",
    "train_df.head()"
   ]
  },
  {
   "cell_type": "markdown",
   "metadata": {},
   "source": [
    "# Feature Encoding\n",
    "\n",
    "First let's convert all the categorical features to numbers. I have decided to use Label encoder after lot of experiments with other types of categorical encoders and decision is made based on CV ROC score."
   ]
  },
  {
   "cell_type": "code",
   "execution_count": null,
   "metadata": {
    "execution": {
     "iopub.status.busy": "2021-05-30T16:59:24.624856Z",
     "iopub.status.idle": "2021-05-30T16:59:24.625297Z"
    }
   },
   "outputs": [],
   "source": [
    "def label_enc(train_df, test_df, features):\n",
    "    lbl_enc = preprocessing.LabelEncoder()\n",
    "    full_data = pd.concat(\n",
    "        [train_df[features], test_df[features]],\n",
    "        axis=0\n",
    "    )\n",
    "    \n",
    "    for col in (features):\n",
    "        print(col)\n",
    "        if train_df[col].dtype == 'object':\n",
    "            lbl_enc.fit(full_data[col].values)\n",
    "            train_df[col] = lbl_enc.transform(train_df[col])\n",
    "            test_df[col] = lbl_enc.transform(test_df[col])\n",
    "            \n",
    "    return train_df, test_df"
   ]
  },
  {
   "cell_type": "code",
   "execution_count": null,
   "metadata": {
    "execution": {
     "iopub.status.busy": "2021-05-30T16:59:24.626272Z",
     "iopub.status.idle": "2021-05-30T16:59:24.626682Z"
    }
   },
   "outputs": [],
   "source": [
    "mapping_dict = {'Yes': 1,\n",
    "                'No': 0,\n",
    "                'Unk': 0.5}"
   ]
  },
  {
   "cell_type": "code",
   "execution_count": null,
   "metadata": {
    "execution": {
     "iopub.status.busy": "2021-05-30T16:59:24.627763Z",
     "iopub.status.idle": "2021-05-30T16:59:24.628208Z"
    }
   },
   "outputs": [],
   "source": [
    "train_df['Credit_Product'] = train_df['Credit_Product'].map(mapping_dict)\n",
    "test_df['Credit_Product'] = test_df['Credit_Product'].map(mapping_dict)\n",
    "\n",
    "train_df['Is_Active'] = train_df['Is_Active'].map(mapping_dict)\n",
    "test_df['Is_Active'] = test_df['Is_Active'].map(mapping_dict)"
   ]
  },
  {
   "cell_type": "code",
   "execution_count": null,
   "metadata": {
    "execution": {
     "iopub.status.busy": "2021-05-30T16:59:24.629374Z",
     "iopub.status.idle": "2021-05-30T16:59:24.629778Z"
    }
   },
   "outputs": [],
   "source": [
    "train_df.head()"
   ]
  },
  {
   "cell_type": "code",
   "execution_count": null,
   "metadata": {
    "execution": {
     "iopub.status.busy": "2021-05-30T16:59:24.630754Z",
     "iopub.status.idle": "2021-05-30T16:59:24.631253Z"
    }
   },
   "outputs": [],
   "source": [
    "target = ['Is_Lead']\n",
    "not_features = ['ID', 'Is_Lead', 'kfold']\n",
    "cols = list(train_df.columns)\n",
    "features = [feat for feat in cols if feat not in not_features]\n",
    "print(features)"
   ]
  },
  {
   "cell_type": "code",
   "execution_count": null,
   "metadata": {
    "execution": {
     "iopub.status.busy": "2021-05-30T16:59:24.632286Z",
     "iopub.status.idle": "2021-05-30T16:59:24.632709Z"
    }
   },
   "outputs": [],
   "source": [
    "numerics = ['int16', 'int32', 'int64', 'float16', 'float32', 'float64']\n",
    "categorical_features = []\n",
    "numerical_features = []\n",
    "\n",
    "for i in features:\n",
    "    if train_df[i].dtype in numerics:\n",
    "        numerical_features.append(i)\n",
    "    else:\n",
    "        categorical_features.append(i)\n",
    "        \n",
    "print(f'Numeric features: {numerical_features}')\n",
    "print(f'Categorical features: {categorical_features}')"
   ]
  },
  {
   "cell_type": "code",
   "execution_count": null,
   "metadata": {
    "execution": {
     "iopub.status.busy": "2021-05-30T16:59:24.634175Z",
     "iopub.status.idle": "2021-05-30T16:59:24.634629Z"
    }
   },
   "outputs": [],
   "source": [
    "train_df[numerical_features] = train_df[numerical_features].astype('float64')\n",
    "test_df[numerical_features] = test_df[numerical_features].astype('float64')"
   ]
  },
  {
   "cell_type": "code",
   "execution_count": null,
   "metadata": {
    "execution": {
     "iopub.status.busy": "2021-05-30T16:59:24.635776Z",
     "iopub.status.idle": "2021-05-30T16:59:24.636434Z"
    }
   },
   "outputs": [],
   "source": [
    "train_df[target] = train_df[target].astype('float64')"
   ]
  },
  {
   "cell_type": "code",
   "execution_count": null,
   "metadata": {
    "execution": {
     "iopub.status.busy": "2021-05-30T16:59:24.637503Z",
     "iopub.status.idle": "2021-05-30T16:59:24.63795Z"
    }
   },
   "outputs": [],
   "source": [
    "cutoff = 10\n",
    "low_cardinal_columns = []\n",
    "high_cardinal_columns = []\n",
    "\n",
    "for i in categorical_features:\n",
    "    if train_df[i].nunique() > cutoff:\n",
    "        high_cardinal_columns.append(i)\n",
    "    else:\n",
    "        low_cardinal_columns.append(i)\n",
    "        \n",
    "print(f'High Cardinality columns: {high_cardinal_columns}')\n",
    "print(f'Low Cardinality columns: {low_cardinal_columns}')"
   ]
  },
  {
   "cell_type": "code",
   "execution_count": null,
   "metadata": {
    "execution": {
     "iopub.status.busy": "2021-05-30T16:59:24.638992Z",
     "iopub.status.idle": "2021-05-30T16:59:24.639398Z"
    }
   },
   "outputs": [],
   "source": [
    "if len(low_cardinal_columns) > 0:\n",
    "    train_df, test_df = label_enc(train_df, test_df, low_cardinal_columns)"
   ]
  },
  {
   "cell_type": "code",
   "execution_count": null,
   "metadata": {
    "execution": {
     "iopub.status.busy": "2021-05-30T16:59:24.640275Z",
     "iopub.status.idle": "2021-05-30T16:59:24.640686Z"
    }
   },
   "outputs": [],
   "source": [
    "if len(high_cardinal_columns) > 0:\n",
    "    train_df, test_df = label_enc(train_df, test_df, high_cardinal_columns)"
   ]
  },
  {
   "cell_type": "markdown",
   "metadata": {},
   "source": [
    "# Clustering\n",
    "We can cluster the customers to some groups using the given features and use them as one of the features to identify what cluster the customer belongs to."
   ]
  },
  {
   "cell_type": "code",
   "execution_count": null,
   "metadata": {
    "execution": {
     "iopub.status.busy": "2021-05-30T16:59:24.641675Z",
     "iopub.status.idle": "2021-05-30T16:59:24.642129Z"
    }
   },
   "outputs": [],
   "source": [
    "kmeans = KMeans(n_clusters=3, random_state=42, n_jobs=-1)\n",
    "kmeans.fit(train_df[features])\n",
    "\n",
    "train_df['cluster'] = kmeans.predict(train_df[features])\n",
    "test_df['cluster'] = kmeans.predict(test_df[features])"
   ]
  },
  {
   "cell_type": "markdown",
   "metadata": {},
   "source": [
    "# Feature Selection\n",
    "\n",
    "We need to select only the important features for better performance of the model. As unnecessary in best case scenario will not add to any productive calculation of the algorithm or in worst case scenario 'confuse' the model.\n",
    "\n",
    "To do the same let's create a wrapper class that has all the built in statistical tests required to perform feature selection and takes some basic inputs from user and spits out the required features."
   ]
  },
  {
   "cell_type": "code",
   "execution_count": null,
   "metadata": {
    "execution": {
     "iopub.status.busy": "2021-05-30T16:59:24.643047Z",
     "iopub.status.idle": "2021-05-30T16:59:24.643456Z"
    }
   },
   "outputs": [],
   "source": [
    "cols = list(train_df.columns)\n",
    "features = [feat for feat in cols if feat not in not_features+target]"
   ]
  },
  {
   "cell_type": "code",
   "execution_count": null,
   "metadata": {
    "execution": {
     "iopub.status.busy": "2021-05-30T16:59:24.644643Z",
     "iopub.status.idle": "2021-05-30T16:59:24.64509Z"
    }
   },
   "outputs": [],
   "source": [
    "class UnivariateFeatureSelction:\n",
    "    def __init__(self, n_features, problem_type, scoring, return_cols=True):\n",
    "        \"\"\"\n",
    "        Custom univariate feature selection wrapper on\n",
    "        different univariate feature selection models from\n",
    "        scikit-learn.\n",
    "        :param n_features: SelectPercentile if float else SelectKBest\n",
    "        :param problem_type: classification or regression\n",
    "        :param scoring: scoring function, string\n",
    "        \"\"\"\n",
    "        self.n_features = n_features\n",
    "        \n",
    "        if problem_type == \"classification\":\n",
    "            valid_scoring = {\n",
    "                \"f_classif\": f_classif,\n",
    "                \"chi2\": chi2,\n",
    "                \"mutual_info_classif\": mutual_info_classif\n",
    "            }\n",
    "        else:\n",
    "            valid_scoring = {\n",
    "                \"f_regression\": f_regression,\n",
    "                \"mutual_info_regression\": mutual_info_regression\n",
    "            }\n",
    "        if scoring not in valid_scoring:\n",
    "            raise Exception(\"Invalid scoring function\")\n",
    "            \n",
    "        if isinstance(n_features, int):\n",
    "            self.selection = SelectKBest(\n",
    "                valid_scoring[scoring],\n",
    "                k=n_features\n",
    "            )\n",
    "        elif isinstance(n_features, float):\n",
    "            self.selection = SelectPercentile(\n",
    "                valid_scoring[scoring],\n",
    "                percentile=int(n_features * 100)\n",
    "            )\n",
    "        else:\n",
    "            raise Exception(\"Invalid type of feature\")\n",
    "    \n",
    "    def fit(self, X, y):\n",
    "        return self.selection.fit(X, y)\n",
    "    \n",
    "    def transform(self, X):\n",
    "        return self.selection.transform(X)\n",
    "    \n",
    "    def fit_transform(self, X, y):\n",
    "        return self.selection.fit_transform(X, y)\n",
    "    \n",
    "    def return_cols(self, X):\n",
    "        if isinstance(self.n_features, int):\n",
    "            mask = SelectKBest.get_support(self.selection)\n",
    "            selected_features = []\n",
    "            features = list(X.columns)\n",
    "            for bool, feature in zip(mask, features):\n",
    "                if bool:\n",
    "                    selected_features.append(feature)\n",
    "                    \n",
    "        elif isinstance(self.n_features, float):\n",
    "            mask = SelectPercentile.get_support(self.selection)\n",
    "            selected_features = []\n",
    "            features = list(X.columns)\n",
    "            for bool, feature in zip(mask, features):\n",
    "                if bool:\n",
    "                    selected_features.append(feature)\n",
    "        else:\n",
    "            raise Exception(\"Invalid type of feature\")\n",
    "        \n",
    "        return selected_features"
   ]
  },
  {
   "cell_type": "code",
   "execution_count": null,
   "metadata": {
    "execution": {
     "iopub.status.busy": "2021-05-30T16:59:24.646051Z",
     "iopub.status.idle": "2021-05-30T16:59:24.646454Z"
    }
   },
   "outputs": [],
   "source": [
    "ufs = UnivariateFeatureSelction(\n",
    "    n_features=1.0,\n",
    "    problem_type=\"classification\",\n",
    "    scoring=\"f_classif\"\n",
    ")\n",
    "\n",
    "ufs.fit(train_df[features], train_df[target].values.ravel())\n",
    "selected_features = ufs.return_cols(train_df[features])"
   ]
  },
  {
   "cell_type": "markdown",
   "metadata": {},
   "source": [
    "Through iterations it has been found that all features are important. Hence we are not doing any feature selection and thus the n_features parameter has value 1.0"
   ]
  },
  {
   "cell_type": "code",
   "execution_count": null,
   "metadata": {
    "execution": {
     "iopub.status.busy": "2021-05-30T16:59:24.647443Z",
     "iopub.status.idle": "2021-05-30T16:59:24.647857Z"
    }
   },
   "outputs": [],
   "source": [
    "print(f'{len(selected_features)} Features Selected')\n",
    "print(selected_features)"
   ]
  },
  {
   "cell_type": "markdown",
   "metadata": {},
   "source": [
    "# Models Benchmarking\n",
    "First let's create a benchmarking function which finds the best single model for this dataset."
   ]
  },
  {
   "cell_type": "code",
   "execution_count": null,
   "metadata": {
    "execution": {
     "iopub.status.busy": "2021-05-30T16:59:24.649043Z",
     "iopub.status.idle": "2021-05-30T16:59:24.649449Z"
    }
   },
   "outputs": [],
   "source": [
    "def get_models():\n",
    "    models = dict()\n",
    "    models['gauss'] = GaussianNB()\n",
    "    models['QDA'] = QuadraticDiscriminantAnalysis()\n",
    "    models['lr'] = LogisticRegression(solver='liblinear')\n",
    "    models['rf'] = RandomForestClassifier(class_weight='balanced_subsample',\n",
    "                                          random_state=42)\n",
    "    models['lgbm'] = LGBMClassifier(metric='binary_logloss',\n",
    "                                    objective='binary',\n",
    "                                    reg_alpha=2.945525898790487,\n",
    "                                    max_depth=13,\n",
    "                                    num_leaves=34,\n",
    "                                    seed=42,\n",
    "                                    learning_rate=0.0037601596530868493,\n",
    "                                    n_estimators=1913)\n",
    "    models['BalBag'] = BalancedBaggingClassifier()\n",
    "    models['BalRF'] = BalancedRandomForestClassifier()\n",
    "    \n",
    "    return models\n",
    "\n",
    "def evaluate_model(model, X, y):\n",
    "    cv = RepeatedStratifiedKFold(n_splits=5, n_repeats=3, random_state=42)\n",
    "    scores = cross_val_score(model, X, y, scoring='roc_auc', cv=cv,\n",
    "                             n_jobs=-1, error_score='raise')\n",
    "    return scores"
   ]
  },
  {
   "cell_type": "code",
   "execution_count": null,
   "metadata": {
    "execution": {
     "iopub.status.busy": "2021-05-30T16:59:24.65043Z",
     "iopub.status.idle": "2021-05-30T16:59:24.650875Z"
    }
   },
   "outputs": [],
   "source": [
    "%%time\n",
    "\n",
    "X = train_df[selected_features].values\n",
    "y = train_df[target].values\n",
    "\n",
    "models = get_models()\n",
    "results = []\n",
    "names = []\n",
    "\n",
    "for name, model in models.items():\n",
    "    scores = evaluate_model(model, X, y)\n",
    "    results.append(scores)\n",
    "    names.append(name)\n",
    "    print(f'{name} : {round(np.mean(scores),6)} ({round(np.std(scores),3)})')"
   ]
  },
  {
   "cell_type": "code",
   "execution_count": null,
   "metadata": {
    "execution": {
     "iopub.status.busy": "2021-05-30T16:59:24.65194Z",
     "iopub.status.idle": "2021-05-30T16:59:24.652341Z"
    }
   },
   "outputs": [],
   "source": [
    "ax = plt.subplots(figsize=(12, 6))\n",
    "plt.boxplot(results, labels=names, showmeans=True)\n",
    "plt.show()"
   ]
  },
  {
   "cell_type": "markdown",
   "metadata": {},
   "source": [
    "# Solution-1\n",
    "Prediction using the best single model."
   ]
  },
  {
   "cell_type": "code",
   "execution_count": null,
   "metadata": {
    "execution": {
     "iopub.status.busy": "2021-05-30T16:59:24.65343Z",
     "iopub.status.idle": "2021-05-30T16:59:24.653841Z"
    }
   },
   "outputs": [],
   "source": [
    "mean_scores = []\n",
    "for score in results:\n",
    "    mean_scores.append(round(np.mean(score),3))\n",
    "min_index = mean_scores.index(max(mean_scores))\n",
    "model_name = names[min_index]"
   ]
  },
  {
   "cell_type": "code",
   "execution_count": null,
   "metadata": {
    "execution": {
     "iopub.status.busy": "2021-05-30T16:59:24.654733Z",
     "iopub.status.idle": "2021-05-30T16:59:24.655163Z"
    }
   },
   "outputs": [],
   "source": [
    "print(f'Best Score: {mean_scores[min_index]}')\n",
    "print(f'Best Model: {model_name}')"
   ]
  },
  {
   "cell_type": "code",
   "execution_count": null,
   "metadata": {
    "execution": {
     "iopub.status.busy": "2021-05-30T16:59:24.656071Z",
     "iopub.status.idle": "2021-05-30T16:59:24.65647Z"
    }
   },
   "outputs": [],
   "source": [
    "%%time\n",
    "\n",
    "models = get_models()\n",
    "clf = models[model_name]\n",
    "X = train_df[selected_features]\n",
    "y = train_df[target]\n",
    "clf.fit(X, y)\n",
    "\n",
    "preds = clf.predict_proba(test_df[selected_features])\n",
    "sub = pd.DataFrame()\n",
    "sub['ID'] = test_df['ID']\n",
    "sub['Is_Lead'] = preds[:, 1]"
   ]
  },
  {
   "cell_type": "code",
   "execution_count": null,
   "metadata": {
    "execution": {
     "iopub.status.busy": "2021-05-30T16:59:24.657359Z",
     "iopub.status.idle": "2021-05-30T16:59:24.657749Z"
    }
   },
   "outputs": [],
   "source": [
    "sub.head()"
   ]
  },
  {
   "cell_type": "code",
   "execution_count": null,
   "metadata": {
    "execution": {
     "iopub.status.busy": "2021-05-30T16:59:24.658742Z",
     "iopub.status.idle": "2021-05-30T16:59:24.659603Z"
    }
   },
   "outputs": [],
   "source": [
    "sub.to_csv('Best_single_Model.csv', index=False)"
   ]
  },
  {
   "cell_type": "markdown",
   "metadata": {},
   "source": [
    "# Final Solution\n",
    "Creating a custom ensemble using the best single model from above and training on folds while tracking the OOF scores."
   ]
  },
  {
   "cell_type": "code",
   "execution_count": null,
   "metadata": {
    "execution": {
     "iopub.status.busy": "2021-05-30T16:59:24.660552Z",
     "iopub.status.idle": "2021-05-30T16:59:24.660984Z"
    }
   },
   "outputs": [],
   "source": [
    "test_pred_all = None\n",
    "\n",
    "for i in tqdm(range(NUM_SPLITS)):\n",
    "    print('#'*50)\n",
    "    print(f'{\"*\"*21} FOLD {i+1} {\"*\"*21}')\n",
    "    \n",
    "    train = train_df[train_df['kfold'] != i]\n",
    "    valid = train_df[train_df['kfold'] == i]\n",
    "    test = test_df\n",
    "    \n",
    "    clf = LGBMClassifier(metric='binary_logloss',\n",
    "                         objective='binary',\n",
    "                         reg_alpha=2.945525898790487,\n",
    "                         max_depth=13,\n",
    "                         num_leaves=34,\n",
    "                         seed=42,\n",
    "                         learning_rate=0.0037601596530868493,\n",
    "                         n_estimators=20000)\n",
    "    clf.fit(train[selected_features].values,train[target].values,\n",
    "           eval_set=(valid[selected_features].values,valid[target].values),\n",
    "           eval_metric='binary_logloss',\n",
    "           early_stopping_rounds=500,\n",
    "           verbose=1000)\n",
    "    \n",
    "    pred = clf.predict_proba(valid[selected_features])[:, 1]\n",
    "    roc = roc_auc_score(valid[target], pred)\n",
    "\n",
    "    test_pred = clf.predict_proba(test[selected_features])[:, 1]\n",
    "    if test_pred_all is None:\n",
    "        test_pred_all = test_pred\n",
    "    else:\n",
    "        test_pred_all += test_pred\n",
    "    \n",
    "    print(f'ROC: {roc}')\n",
    "    print('#'*50)\n",
    "    \n",
    "test_pred_all /= NUM_SPLITS"
   ]
  },
  {
   "cell_type": "code",
   "execution_count": null,
   "metadata": {
    "execution": {
     "iopub.status.busy": "2021-05-30T16:59:24.661948Z",
     "iopub.status.idle": "2021-05-30T16:59:24.662341Z"
    }
   },
   "outputs": [],
   "source": [
    "sub_2 = pd.DataFrame()\n",
    "sub_2['ID'] = test_df['ID']\n",
    "sub_2['Is_Lead'] = test_pred_all"
   ]
  },
  {
   "cell_type": "code",
   "execution_count": null,
   "metadata": {
    "execution": {
     "iopub.status.busy": "2021-05-30T16:59:24.663233Z",
     "iopub.status.idle": "2021-05-30T16:59:24.663623Z"
    }
   },
   "outputs": [],
   "source": [
    "sub_2.head()"
   ]
  },
  {
   "cell_type": "code",
   "execution_count": null,
   "metadata": {
    "execution": {
     "iopub.status.busy": "2021-05-30T16:59:24.664525Z",
     "iopub.status.idle": "2021-05-30T16:59:24.664955Z"
    }
   },
   "outputs": [],
   "source": [
    "sub_2.to_csv('LGBM_5fold_Ensemble.csv', index=False)"
   ]
  }
 ],
 "metadata": {
  "kernelspec": {
   "display_name": "Python 3",
   "language": "python",
   "name": "python3"
  },
  "language_info": {
   "codemirror_mode": {
    "name": "ipython",
    "version": 3
   },
   "file_extension": ".py",
   "mimetype": "text/x-python",
   "name": "python",
   "nbconvert_exporter": "python",
   "pygments_lexer": "ipython3",
   "version": "3.7.9"
  }
 },
 "nbformat": 4,
 "nbformat_minor": 4
}
